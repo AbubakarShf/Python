{
 "cells": [
  {
   "cell_type": "code",
   "execution_count": 2,
   "id": "47848627",
   "metadata": {},
   "outputs": [
    {
     "name": "stdout",
     "output_type": "stream",
     "text": [
      "Hello\n",
      "Hello\n",
      "Hello\n",
      "Hello\n",
      "Hello\n",
      "Hello\n",
      "Hello\n",
      "Hello\n",
      "Hello\n",
      "Hello\n"
     ]
    }
   ],
   "source": [
    "#While-loop\n",
    "\n",
    "# 1-10\n",
    "\n",
    "i=1\n",
    "while i<=10:\n",
    "    print(\"Hello\")\n",
    "    i=i+1\n",
    "#Exit"
   ]
  },
  {
   "cell_type": "code",
   "execution_count": 10,
   "id": "ddaa6445",
   "metadata": {},
   "outputs": [
    {
     "name": "stdout",
     "output_type": "stream",
     "text": [
      "1\n",
      "2\n",
      "3\n",
      "4\n",
      "5\n",
      "6\n",
      "7\n",
      "8\n",
      "9\n",
      "10\n"
     ]
    }
   ],
   "source": [
    "#for-loop\n",
    "\n",
    "# 1-10\n",
    "\n",
    "for count in range(1,11):\n",
    "    print(count)\n",
    "#Exit"
   ]
  },
  {
   "cell_type": "code",
   "execution_count": 20,
   "id": "a3028ac8",
   "metadata": {},
   "outputs": [
    {
     "name": "stdout",
     "output_type": "stream",
     "text": [
      "8  X  1  =  8\n",
      "8  X  2  =  16\n",
      "8  X  3  =  24\n",
      "8  X  4  =  32\n",
      "8  X  5  =  40\n",
      "8  X  6  =  48\n",
      "8  X  7  =  56\n",
      "8  X  8  =  64\n",
      "8  X  9  =  72\n",
      "8  X  10  =  80\n"
     ]
    }
   ],
   "source": [
    "# 8 X 1 = 8\n",
    "# 8 X 2 = 16\n",
    "# 8 X 3 = 24\n",
    "\n",
    "digit=8\n",
    "for i in range(1,11):\n",
    "    print(digit,\" X \",i,\" = \",digit*i)\n"
   ]
  },
  {
   "cell_type": "code",
   "execution_count": 34,
   "id": "285a72e6",
   "metadata": {},
   "outputs": [
    {
     "name": "stdout",
     "output_type": "stream",
     "text": [
      "Enter your Name = Sarah\n",
      "Hello Sarah\n",
      "Bye  Sarah\n"
     ]
    }
   ],
   "source": [
    "#Function\n",
    "\n",
    "def Hello(Name):\n",
    "        print(\"Hello\",Name)\n",
    "def Bye(ByeName):\n",
    "    print(\"Bye \",ByeName)\n",
    "\n",
    "Name=input(\"Enter your Name = \")\n",
    "Hello(Name)\n",
    "Bye(Name)\n"
   ]
  },
  {
   "cell_type": "code",
   "execution_count": null,
   "id": "24b5686c",
   "metadata": {},
   "outputs": [],
   "source": []
  }
 ],
 "metadata": {
  "kernelspec": {
   "display_name": "Python 3",
   "language": "python",
   "name": "python3"
  },
  "language_info": {
   "codemirror_mode": {
    "name": "ipython",
    "version": 3
   },
   "file_extension": ".py",
   "mimetype": "text/x-python",
   "name": "python",
   "nbconvert_exporter": "python",
   "pygments_lexer": "ipython3",
   "version": "3.8.8"
  }
 },
 "nbformat": 4,
 "nbformat_minor": 5
}
